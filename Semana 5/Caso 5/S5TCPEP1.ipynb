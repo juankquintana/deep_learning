{
 "cells": [
  {
   "cell_type": "markdown",
   "metadata": {
    "id": "z7U8lp55qfdA"
   },
   "source": [
    "## Redes Convolucionales para reconocimiento de imágenes\n",
    "\n",
    "## Actividad calificada por el personal\n",
    "\n",
    "### Propósito \n",
    "\n",
    "En el laboratorio \"Implementación de Redes Convolucionales en Keras\" se propuso una implementación a través de *\"Keras\"* de una red convolucional para una base de datos que contiene imágenes de dígitos manuscritos. En este *notebook* se pretende evaluar el uso de *keras* al aplicar una red convolucional sobre un conjunto de imágenes más complejo, \"Fashion MNIST\". \n",
    "\n",
    "### Instrucciones generales\n",
    "\n",
    "1. Los procedimientos en el notebook deberán responderse en los espacios especificados para tal fin, debajo de cada uno de los puntos.\n",
    "\n",
    "2. Para que la actividad sea calificada, deberán subir únicamente este mismo archivo con la extensión \".ipynb\" a la actividad de \"entrega calificada por el personal\" correspondiente a este caso.\n",
    "\n",
    "### Criterios a evaluar\n",
    "\n",
    "Los criterios que se evaluarán son:\n",
    "\n",
    "Preparación de las variables: Se adaptan los datos apropiadamente para el uso de las funciones de `keras` y realiza la partición de la muestra en entrenamiento, validación y test. [15 puntos]\n",
    "\n",
    "Estimación de un modelo utilizando redes neuronales convolucionales: Se estima el modelo usando una CNN, se establecen los parámetros y estructuras apropiadamente, se evalúa en la muestra de test y se analizan correctamente los resultados y el procedimiento realizado. [45 puntos]\n",
    "\n",
    "Calidad de la predicción: La arquitectura implementada posee un buen desempeño entre el nivel de precisión obtenido y el tiempo de ejecución. **Nota: Se considera un nivel de precisión del 91% como buen desempeño para este laboratorio**. Asegúrese de no implementar una red excesivamente profunda probándola en los servidores que ofrece la plataforma Coursera, pues con estos realizamos la calificaciónde su solución. [40 puntos]\n",
    "\n",
    "\n",
    "#### Problema\n",
    "\n",
    "Fashion-MNIST es una base de datos de imágenes de artículos de la tienda de ropa Zalando, que consta de un set de entrenamiento de 60000 muestras y un set de test de 10000 muestras. Cada dato es una imagen en escala de grises de una prenda de vestir, asociada con una etiqueta de 10 clases.\n",
    "\n",
    "Ustedes deben proponer el algoritmo para hacer la clasificación de las prendas con una red neuronal convolucional."
   ]
  },
  {
   "cell_type": "markdown",
   "metadata": {
    "id": "yQUTyauSqfdD"
   },
   "source": [
    "### Librerías a importar"
   ]
  },
  {
   "cell_type": "code",
   "execution_count": null,
   "metadata": {
    "id": "b7FZBYtzqfdE",
    "tags": []
   },
   "outputs": [],
   "source": [
    "import numpy as np\n",
    "import matplotlib.pyplot as plt\n",
    "#Las siguientes dos líneas evitan la generación de \"warnings\" y \"flags\" al importar keras y tensorflow.\n",
    "#Dichas advertencias no comprometen el funcionamiento del código.\n",
    "import os\n",
    "os.environ['TF_CPP_MIN_LOG_LEVEL'] = '3' \n",
    "#Importación de keras\n",
    "import keras"
   ]
  },
  {
   "cell_type": "markdown",
   "metadata": {
    "id": "p6PQCLuOqfdF"
   },
   "source": [
    "### 1. Preparación de las variables (15 puntos)\n",
    "\n",
    "Adapte los datos apropiadamente para el uso de las funciones de `keras` y realiza la partición de la muestra en entrenamiento, validación y test."
   ]
  },
  {
   "cell_type": "code",
   "execution_count": null,
   "metadata": {
    "id": "kCbBgdbcqfdF"
   },
   "outputs": [],
   "source": [
    "# Utilicen este espacio para escribir los códigos del procedimiento del punto 1 ####"
   ]
  },
  {
   "cell_type": "markdown",
   "metadata": {
    "id": "vGBvlfJ4qfdF"
   },
   "source": [
    "(Utilicen este espacio para describir su procedimiento y escribir su análisis y conclusiones sobre el punto 1)"
   ]
  },
  {
   "cell_type": "markdown",
   "metadata": {
    "id": "iV0E9KxbqfdG"
   },
   "source": [
    "### 2. Estimación de un modelo utilizando redes neuronales convolucionales (45 puntos)\n",
    "\n",
    "Estimen un modelo predictivo usando la muestra de entrenamiento y establezcan apropiadamente cada uno de los parámetros de la red."
   ]
  },
  {
   "cell_type": "code",
   "execution_count": null,
   "metadata": {
    "id": "817ER4dgqfdG"
   },
   "outputs": [],
   "source": [
    "#### Utilicen este espacio para escribir los códigos del procedimiento del punto 2 ####"
   ]
  },
  {
   "cell_type": "markdown",
   "metadata": {
    "id": "qMsXnV_tqfdG"
   },
   "source": [
    "(Utilicen este espacio para describir su procedimiento y escribir su análisis y conclusiones sobre el punto 2)"
   ]
  },
  {
   "cell_type": "markdown",
   "metadata": {
    "id": "cVAgMpGNqfdH"
   },
   "source": [
    "### 3. Calidad de la predicción (40 puntos)\n",
    "\n",
    "Evalúe el desempeño de su algoritmo con el set de _test_ y argumente sobre el nivel de precisión obtenido, tiempo de ejecución y la arquitectura de su red convolucional."
   ]
  },
  {
   "cell_type": "code",
   "execution_count": null,
   "metadata": {
    "id": "Hs2D9Gb4qfdH"
   },
   "outputs": [],
   "source": [
    "#### Utilicen este espacio para escribir los códigos del procedimiento del punto 3 ####"
   ]
  },
  {
   "cell_type": "markdown",
   "metadata": {
    "id": "15MukKo4qfdH"
   },
   "source": [
    "(Utilicen este espacio para describir su procedimiento y escribir su análisis y conclusiones sobre el punto 3)"
   ]
  }
 ],
 "metadata": {
  "colab": {
   "provenance": []
  },
  "kernelspec": {
   "display_name": "Python 3 (ipykernel)",
   "language": "python",
   "name": "python3"
  },
  "language_info": {
   "codemirror_mode": {
    "name": "ipython",
    "version": 3
   },
   "file_extension": ".py",
   "mimetype": "text/x-python",
   "name": "python",
   "nbconvert_exporter": "python",
   "pygments_lexer": "ipython3",
   "version": "3.10.10"
  }
 },
 "nbformat": 4,
 "nbformat_minor": 4
}
