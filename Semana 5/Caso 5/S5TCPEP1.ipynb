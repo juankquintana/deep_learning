{
 "cells": [
  {
   "cell_type": "markdown",
   "metadata": {
    "id": "z7U8lp55qfdA"
   },
   "source": [
    "## Redes Convolucionales para reconocimiento de imágenes\n",
    "\n",
    "## Actividad calificada por el personal\n",
    "\n",
    "### Propósito \n",
    "\n",
    "En el laboratorio \"Implementación de Redes Convolucionales en Keras\" se propuso una implementación a través de *\"Keras\"* de una red convolucional para una base de datos que contiene imágenes de dígitos manuscritos. En este *notebook* se pretende evaluar el uso de *keras* al aplicar una red convolucional sobre un conjunto de imágenes más complejo, \"Fashion MNIST\". \n",
    "\n",
    "### Instrucciones generales\n",
    "\n",
    "1. Los procedimientos en el notebook deberán responderse en los espacios especificados para tal fin, debajo de cada uno de los puntos.\n",
    "\n",
    "2. Para que la actividad sea calificada, deberán subir únicamente este mismo archivo con la extensión \".ipynb\" a la actividad de \"entrega calificada por el personal\" correspondiente a este caso.\n",
    "\n",
    "### Criterios a evaluar\n",
    "\n",
    "Los criterios que se evaluarán son:\n",
    "\n",
    "Preparación de las variables: Se adaptan los datos apropiadamente para el uso de las funciones de `keras` y realiza la partición de la muestra en entrenamiento, validación y test. [15 puntos]\n",
    "\n",
    "Estimación de un modelo utilizando redes neuronales convolucionales: Se estima el modelo usando una CNN, se establecen los parámetros y estructuras apropiadamente, se evalúa en la muestra de test y se analizan correctamente los resultados y el procedimiento realizado. [45 puntos]\n",
    "\n",
    "Calidad de la predicción: La arquitectura implementada posee un buen desempeño entre el nivel de precisión obtenido y el tiempo de ejecución. **Nota: Se considera un nivel de precisión del 91% como buen desempeño para este laboratorio**. Asegúrese de no implementar una red excesivamente profunda probándola en los servidores que ofrece la plataforma Coursera, pues con estos realizamos la calificaciónde su solución. [40 puntos]\n",
    "\n",
    "\n",
    "#### Problema\n",
    "\n",
    "Fashion-MNIST es una base de datos de imágenes de artículos de la tienda de ropa Zalando, que consta de un set de entrenamiento de 60000 muestras y un set de test de 10000 muestras. Cada dato es una imagen en escala de grises de una prenda de vestir, asociada con una etiqueta de 10 clases.\n",
    "\n",
    "Ustedes deben proponer el algoritmo para hacer la clasificación de las prendas con una red neuronal convolucional."
   ]
  },
  {
   "cell_type": "markdown",
   "metadata": {
    "id": "yQUTyauSqfdD"
   },
   "source": [
    "### Librerías a importar"
   ]
  },
  {
   "cell_type": "code",
   "execution_count": 23,
   "metadata": {
    "id": "b7FZBYtzqfdE",
    "tags": []
   },
   "outputs": [],
   "source": [
    "import numpy as np\n",
    "import matplotlib.pyplot as plt\n",
    "#Las siguientes dos líneas evitan la generación de \"warnings\" y \"flags\" al importar keras y tensorflow.\n",
    "#Dichas advertencias no comprometen el funcionamiento del código.\n",
    "import os\n",
    "os.environ['TF_CPP_MIN_LOG_LEVEL'] = '3' \n",
    "#Importación de keras\n",
    "import keras\n",
    "\n",
    "import tensorflow as tf\n",
    "\n",
    "import os\n",
    "os.environ['TF_CPP_MIN_LOG_LEVEL'] = '3' \n",
    "#Importación de keras y tensorflow\n",
    "import keras\n",
    "import tensorflow as tf\n",
    "from keras import models\n",
    "from keras import layers\n",
    "from keras.models import Sequential\n",
    "from keras.layers import Dense, Dropout, Flatten\n",
    "from keras.layers import Conv2D, MaxPooling2D\n",
    "from keras.layers import AveragePooling2D"
   ]
  },
  {
   "cell_type": "markdown",
   "metadata": {
    "id": "p6PQCLuOqfdF"
   },
   "source": [
    "### 1. Preparación de las variables (15 puntos)\n",
    "\n",
    "Adapte los datos apropiadamente para el uso de las funciones de `keras` y realiza la partición de la muestra en entrenamiento, validación y test."
   ]
  },
  {
   "cell_type": "code",
   "execution_count": 24,
   "metadata": {
    "id": "kCbBgdbcqfdF"
   },
   "outputs": [],
   "source": [
    "# Utilicen este espacio para escribir los códigos del procedimiento del punto 1 ####\n",
    "(x_train, y_train), (x_test, y_test) = tf.keras.datasets.fashion_mnist.load_data()"
   ]
  },
  {
   "cell_type": "code",
   "execution_count": 25,
   "metadata": {},
   "outputs": [
    {
     "name": "stdout",
     "output_type": "stream",
     "text": [
      "Número total de clases:  10\n",
      "Clases/labels:  [0 1 2 3 4 5 6 7 8 9]\n"
     ]
    }
   ],
   "source": [
    "classes = np.unique(y_train)\n",
    "nClasses = len(classes)\n",
    "print('Número total de clases: ', nClasses)\n",
    "print('Clases/labels: ', classes)"
   ]
  },
  {
   "cell_type": "code",
   "execution_count": 14,
   "metadata": {},
   "outputs": [
    {
     "data": {
      "text/plain": [
       "Text(0.5, 1.0, 'Label : 9')"
      ]
     },
     "execution_count": 14,
     "metadata": {},
     "output_type": "execute_result"
    },
    {
     "data": {
      "image/png": "[encoded data removed]",
      "text/plain": [
       "<Figure size 1000x2000 with 2 Axes>"
      ]
     },
     "metadata": {},
     "output_type": "display_data"
    }
   ],
   "source": [
    "\n",
    "plt.figure(figsize=[10,20])\n",
    "# Visualiza la primera imagen en la base de training\n",
    "plt.subplot(121)\n",
    "plt.imshow(x_train[0,:,:], cmap='gray')\n",
    "plt.title(\"Label : {}\".format(y_train[0]))\n",
    "\n",
    "# Visualiza la primera imagen en la base de testing\n",
    "plt.subplot(122)\n",
    "plt.imshow(x_test[0,:,:], cmap='gray')\n",
    "plt.title(\"Label : {}\".format(y_test[0]))"
   ]
  },
  {
   "cell_type": "code",
   "execution_count": 15,
   "metadata": {},
   "outputs": [],
   "source": [
    "#Transformacion del formato de los datos\n",
    "train_X = x_train.astype('float32')\n",
    "test_X = x_test.astype('float32')\n",
    "train_X = train_X / 255.\n",
    "test_X = test_X / 255."
   ]
  },
  {
   "cell_type": "code",
   "execution_count": 16,
   "metadata": {},
   "outputs": [
    {
     "data": {
      "text/plain": [
       "((48000, 28, 28), (12000, 28, 28), (48000,), (12000,))"
      ]
     },
     "execution_count": 16,
     "metadata": {},
     "output_type": "execute_result"
    }
   ],
   "source": [
    "from sklearn.model_selection import train_test_split\n",
    "train_X,valid_X,train_label,valid_label = train_test_split(train_X, y_train, test_size=0.2, random_state=1324)\n",
    "train_X.shape,valid_X.shape,train_label.shape,valid_label.shape"
   ]
  },
  {
   "cell_type": "code",
   "execution_count": 17,
   "metadata": {},
   "outputs": [
    {
     "data": {
      "text/plain": [
       "((48000, 28, 28, 1), (10000, 28, 28, 1))"
      ]
     },
     "execution_count": 17,
     "metadata": {},
     "output_type": "execute_result"
    }
   ],
   "source": [
    "#Ajustar dimensiones de los datos\n",
    "image_rows = train_X.shape[1]\n",
    "image_cols = train_X.shape[2]\n",
    "train_X = train_X.reshape(-1,image_rows,image_cols, 1)\n",
    "test_X = test_X.reshape(-1,image_rows,image_cols, 1)\n",
    "train_X.shape, test_X.shape"
   ]
  },
  {
   "cell_type": "markdown",
   "metadata": {
    "id": "vGBvlfJ4qfdF"
   },
   "source": [
    "(Utilicen este espacio para describir su procedimiento y escribir su análisis y conclusiones sobre el punto 1)"
   ]
  },
  {
   "cell_type": "markdown",
   "metadata": {
    "id": "iV0E9KxbqfdG"
   },
   "source": [
    "### 2. Estimación de un modelo utilizando redes neuronales convolucionales (45 puntos)\n",
    "\n",
    "Estimen un modelo predictivo usando la muestra de entrenamiento y establezcan apropiadamente cada uno de los parámetros de la red."
   ]
  },
  {
   "cell_type": "code",
   "execution_count": 26,
   "metadata": {
    "id": "817ER4dgqfdG"
   },
   "outputs": [],
   "source": [
    "#### Utilicen este espacio para escribir los códigos del procedimiento del punto 2 ####\n",
    "digits_model = Sequential()\n",
    "digits_model.add(Conv2D(32, kernel_size=(3, 3),activation='relu',input_shape=(image_rows,image_cols,1),padding='same'))\n",
    "digits_model.add(MaxPooling2D((2, 2),padding='same'))\n",
    "digits_model.add(Dropout(0.2))\n",
    "digits_model.add(Flatten())\n",
    "digits_model.add(Dense(64, activation='relu'))               \n",
    "digits_model.add(Dense(nClasses, activation='softmax'))"
   ]
  },
  {
   "cell_type": "code",
   "execution_count": 27,
   "metadata": {},
   "outputs": [
    {
     "name": "stdout",
     "output_type": "stream",
     "text": [
      "Model: \"sequential_2\"\n",
      "_________________________________________________________________\n",
      " Layer (type)                Output Shape              Param #   \n",
      "=================================================================\n",
      " conv2d_2 (Conv2D)           (None, 28, 28, 32)        320       \n",
      "                                                                 \n",
      " max_pooling2d_2 (MaxPooling  (None, 14, 14, 32)       0         \n",
      " 2D)                                                             \n",
      "                                                                 \n",
      " dropout_2 (Dropout)         (None, 14, 14, 32)        0         \n",
      "                                                                 \n",
      " flatten_2 (Flatten)         (None, 6272)              0         \n",
      "                                                                 \n",
      " dense_2 (Dense)             (None, 64)                401472    \n",
      "                                                                 \n",
      " dense_3 (Dense)             (None, 10)                650       \n",
      "                                                                 \n",
      "=================================================================\n",
      "Total params: 402,442\n",
      "Trainable params: 402,442\n",
      "Non-trainable params: 0\n",
      "_________________________________________________________________\n"
     ]
    }
   ],
   "source": [
    "digits_model.compile(loss='sparse_categorical_crossentropy', optimizer=keras.optimizers.Adam(learning_rate=0.01),metrics =['accuracy'])\n",
    "digits_model.summary()"
   ]
  },
  {
   "cell_type": "markdown",
   "metadata": {
    "id": "qMsXnV_tqfdG"
   },
   "source": [
    "(Utilicen este espacio para describir su procedimiento y escribir su análisis y conclusiones sobre el punto 2)"
   ]
  },
  {
   "cell_type": "markdown",
   "metadata": {
    "id": "cVAgMpGNqfdH"
   },
   "source": [
    "### 3. Calidad de la predicción (40 puntos)\n",
    "\n",
    "Evalúe el desempeño de su algoritmo con el set de _test_ y argumente sobre el nivel de precisión obtenido, tiempo de ejecución y la arquitectura de su red convolucional."
   ]
  },
  {
   "cell_type": "code",
   "execution_count": null,
   "metadata": {
    "id": "Hs2D9Gb4qfdH"
   },
   "outputs": [],
   "source": [
    "#### Utilicen este espacio para escribir los códigos del procedimiento del punto 3 ####"
   ]
  },
  {
   "cell_type": "markdown",
   "metadata": {
    "id": "15MukKo4qfdH"
   },
   "source": [
    "(Utilicen este espacio para describir su procedimiento y escribir su análisis y conclusiones sobre el punto 3)"
   ]
  }
 ],
 "metadata": {
  "colab": {
   "provenance": []
  },
  "kernelspec": {
   "display_name": "tf",
   "language": "python",
   "name": "python3"
  },
  "language_info": {
   "codemirror_mode": {
    "name": "ipython",
    "version": 3
   },
   "file_extension": ".py",
   "mimetype": "text/x-python",
   "name": "python",
   "nbconvert_exporter": "python",
   "pygments_lexer": "ipython3",
   "version": "3.10.13"
  }
 },
 "nbformat": 4,
 "nbformat_minor": 4
}
