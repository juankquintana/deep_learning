{
 "cells": [
  {
   "cell_type": "markdown",
   "id": "74c0691e",
   "metadata": {},
   "source": [
    "# Convolucion"
   ]
  },
  {
   "cell_type": "code",
   "execution_count": 9,
   "id": "bf9e54cb",
   "metadata": {},
   "outputs": [],
   "source": [
    "import numpy as np\n",
    "\n",
    "# Definir la matriz X y el kernel h\n",
    "X = np.array([\n",
    "    [25, 100, 75, 49, 130],\n",
    "    [50, 80, 0, 70, 100],\n",
    "    [5, 10, 20, 30, 0],\n",
    "    [60, 50, 12, 24, 32],\n",
    "    [37, 53, 55, 21, 90],\n",
    "    [140, 17, 0, 23, 22]\n",
    "])\n",
    "\n",
    "h = np.array([\n",
    "    [1, 0, 1],\n",
    "    [0, 1, 0],\n",
    "    [0, 0, 1]\n",
    "])"
   ]
  },
  {
   "cell_type": "code",
   "execution_count": 10,
   "id": "aed08be9",
   "metadata": {},
   "outputs": [],
   "source": [
    "padding = 0\n",
    "stride = 1"
   ]
  },
  {
   "cell_type": "code",
   "execution_count": 11,
   "id": "24924a03",
   "metadata": {},
   "outputs": [
    {
     "data": {
      "text/plain": [
       "array([[200, 179, 275],\n",
       "       [ 72, 194, 162],\n",
       "       [130,  73, 134],\n",
       "       [125, 152,  87]])"
      ]
     },
     "execution_count": 11,
     "metadata": {},
     "output_type": "execute_result"
    }
   ],
   "source": [
    "output_x = ((X.shape[0] - h.shape[0]) // stride) + 1\n",
    "output_y = ((X.shape[1] - h.shape[1]) // stride) + 1\n",
    "\n",
    "# Crear la matriz de salida\n",
    "output = np.zeros((output_x, output_y), dtype=int)\n",
    "\n",
    "# Aplicar convolución sin padding, sin bias, sin ReLU\n",
    "for i in range(output_x):\n",
    "    for j in range(output_y):\n",
    "        region = X[i:i+h.shape[0], j:j+h.shape[1]]\n",
    "        output[i, j] = np.sum(region * h)\n",
    "\n",
    "output"
   ]
  },
  {
   "cell_type": "markdown",
   "id": "64ce59dd",
   "metadata": {},
   "source": [
    "# Pooling"
   ]
  },
  {
   "cell_type": "code",
   "execution_count": 12,
   "id": "d3e6349f",
   "metadata": {},
   "outputs": [],
   "source": [
    "X2 = np.array([\n",
    "    [25, 100, 75, 49, 130, 70],\n",
    "    [50, 80, 0, 70, 100, 209],\n",
    "    [5, 10, 20, 30, 0, 63],\n",
    "    [60, 50, 12, 24, 32, 198],\n",
    "    [37, 53, 55, 21, 90, 217],\n",
    "    [140, 17, 0, 23, 222, 185]\n",
    "])"
   ]
  },
  {
   "cell_type": "code",
   "execution_count": 31,
   "id": "a4858c48",
   "metadata": {},
   "outputs": [],
   "source": [
    "def pool(input, fp, sp, s):\n",
    "    # Obtener las dimensiones del input\n",
    "    input_x = input.shape[0]\n",
    "    input_y = input.shape[1]\n",
    "\n",
    "    # Calcular las dimensiones de la salida\n",
    "    Output_x = ((input_x - fp) // sp) + 1\n",
    "    Output_y = ((input_y - fp) // sp) + 1\n",
    "\n",
    "    # Inicializar el array de salida\n",
    "    filtered = np.zeros((Output_x, Output_y))\n",
    "\n",
    "    # Realizar la operación de max pooling con stride\n",
    "    for j in range(Output_y):\n",
    "        for i in range(Output_x):\n",
    "            # Definir el inicio de la región según el stride\n",
    "            x = i * sp\n",
    "            y = j * sp\n",
    "\n",
    "            # Asegúrate de que la región no sobrepase los límites de la entrada\n",
    "            region = input[x: x + fp, y: y + fp]  # Aquí la ventana es de tamaño fp x fp\n",
    "            filtered[i, j] = np.mean(region)\n",
    "\n",
    "    return filtered"
   ]
  },
  {
   "cell_type": "code",
   "execution_count": 32,
   "id": "114d8ad7",
   "metadata": {},
   "outputs": [
    {
     "data": {
      "text/plain": [
       "array([[ 40.55555556,  80.11111111],\n",
       "       [ 47.11111111, 112.44444444]])"
      ]
     },
     "execution_count": 32,
     "metadata": {},
     "output_type": "execute_result"
    }
   ],
   "source": [
    "pool(X2, 3, 3,3)"
   ]
  }
 ],
 "metadata": {
  "kernelspec": {
   "display_name": "tf",
   "language": "python",
   "name": "python3"
  },
  "language_info": {
   "codemirror_mode": {
    "name": "ipython",
    "version": 3
   },
   "file_extension": ".py",
   "mimetype": "text/x-python",
   "name": "python",
   "nbconvert_exporter": "python",
   "pygments_lexer": "ipython3",
   "version": "3.10.13"
  }
 },
 "nbformat": 4,
 "nbformat_minor": 5
}
